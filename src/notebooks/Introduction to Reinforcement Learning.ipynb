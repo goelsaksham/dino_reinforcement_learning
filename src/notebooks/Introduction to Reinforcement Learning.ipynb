{
 "cells": [
  {
   "cell_type": "markdown",
   "metadata": {},
   "source": [
    "# Introduction to Reinforcement Learning\n",
    "\n",
    "This notebook is a walkthrough of applying reinforcement learning on different problems using the keras and tensorflow backend neural network over Q-Learning algorithm"
   ]
  },
  {
   "cell_type": "markdown",
   "metadata": {},
   "source": [
    "### Section 1: Libraries and Modules"
   ]
  },
  {
   "cell_type": "code",
   "execution_count": 2,
   "metadata": {},
   "outputs": [
    {
     "name": "stderr",
     "output_type": "stream",
     "text": [
      "Using TensorFlow backend.\n"
     ]
    }
   ],
   "source": [
    "import numpy as np\n",
    "import pandas as pd\n",
    "import matplotlib.pyplot as plt\n",
    "%matplotlib inline\n",
    "import seaborn as sns\n",
    "sns.set()\n",
    "\n",
    "import tensorflow as tf\n",
    "import keras.backend as K\n",
    "\n",
    "import gym\n",
    "\n",
    "from keras.models import Sequential\n",
    "from keras.layers import Dense, Activation, Flatten\n",
    "from keras.optimizers import Adam\n",
    "\n",
    "from rl.agents.dqn import DQNAgent\n",
    "from rl.policy import EpsGreedyQPolicy\n",
    "from rl.memory import SequentialMemory"
   ]
  },
  {
   "cell_type": "code",
   "execution_count": 3,
   "metadata": {},
   "outputs": [],
   "source": [
    "import warnings\n",
    "warnings.filterwarnings('ignore')"
   ]
  },
  {
   "cell_type": "markdown",
   "metadata": {},
   "source": [
    "## Cartpole Problem"
   ]
  },
  {
   "cell_type": "markdown",
   "metadata": {},
   "source": [
    "### Section 2: Defining the Environment"
   ]
  },
  {
   "cell_type": "code",
   "execution_count": 2,
   "metadata": {},
   "outputs": [],
   "source": [
    "ENV_NAME = 'CartPole-v0'\n",
    "\n",
    "# Get the environment and extract the number of actions available in the Cartpole problem\n",
    "env = gym.make(ENV_NAME)\n",
    "np.random.seed(123)\n",
    "env.seed(123)\n",
    "nb_actions = env.action_space.n"
   ]
  },
  {
   "cell_type": "markdown",
   "metadata": {},
   "source": [
    "### Section 3: Defining the ANN Architecture"
   ]
  },
  {
   "cell_type": "code",
   "execution_count": 13,
   "metadata": {},
   "outputs": [
    {
     "name": "stdout",
     "output_type": "stream",
     "text": [
      "_________________________________________________________________\n",
      "Layer (type)                 Output Shape              Param #   \n",
      "=================================================================\n",
      "flatten_3 (Flatten)          (None, 4)                 0         \n",
      "_________________________________________________________________\n",
      "dense_5 (Dense)              (None, 8)                 40        \n",
      "_________________________________________________________________\n",
      "activation_5 (Activation)    (None, 8)                 0         \n",
      "_________________________________________________________________\n",
      "dense_6 (Dense)              (None, 8)                 72        \n",
      "_________________________________________________________________\n",
      "activation_6 (Activation)    (None, 8)                 0         \n",
      "_________________________________________________________________\n",
      "dense_7 (Dense)              (None, 2)                 18        \n",
      "_________________________________________________________________\n",
      "activation_7 (Activation)    (None, 2)                 0         \n",
      "=================================================================\n",
      "Total params: 130\n",
      "Trainable params: 130\n",
      "Non-trainable params: 0\n",
      "_________________________________________________________________\n"
     ]
    }
   ],
   "source": [
    "model = Sequential()\n",
    "model.add(Flatten(input_shape=(1,) + env.observation_space.shape))\n",
    "model.add(Dense(8))\n",
    "model.add(Activation('relu'))\n",
    "model.add(Dense(8))\n",
    "model.add(Activation('relu'))\n",
    "model.add(Dense(nb_actions))\n",
    "model.add(Activation('linear'))\n",
    "model.summary()"
   ]
  },
  {
   "cell_type": "markdown",
   "metadata": {},
   "source": [
    "### Section 4: Training the Model using the Q-Learning Algorithm"
   ]
  },
  {
   "cell_type": "code",
   "execution_count": 14,
   "metadata": {},
   "outputs": [
    {
     "name": "stdout",
     "output_type": "stream",
     "text": [
      "Training for 5000 steps ...\n",
      "   83/5000: episode: 1, duration: 2.098s, episode steps: 83, steps per second: 40, episode reward: 83.000, mean reward: 1.000 [1.000, 1.000], mean action: 0.530 [0.000, 1.000], mean observation: 0.166 [-0.378, 1.102], loss: 0.416868, mean_absolute_error: 0.475442, mean_q: 0.140875\n",
      "  164/5000: episode: 2, duration: 0.365s, episode steps: 81, steps per second: 222, episode reward: 81.000, mean reward: 1.000 [1.000, 1.000], mean action: 0.531 [0.000, 1.000], mean observation: 0.126 [-0.398, 0.942], loss: 0.208963, mean_absolute_error: 0.410182, mean_q: 0.599427\n",
      "  219/5000: episode: 3, duration: 0.242s, episode steps: 55, steps per second: 228, episode reward: 55.000, mean reward: 1.000 [1.000, 1.000], mean action: 0.545 [0.000, 1.000], mean observation: 0.161 [-0.249, 0.924], loss: 0.098684, mean_absolute_error: 0.503921, mean_q: 1.177370\n",
      "  282/5000: episode: 4, duration: 0.284s, episode steps: 63, steps per second: 222, episode reward: 63.000, mean reward: 1.000 [1.000, 1.000], mean action: 0.540 [0.000, 1.000], mean observation: 0.151 [-0.194, 0.951], loss: 0.077640, mean_absolute_error: 0.753097, mean_q: 1.671077\n",
      "  340/5000: episode: 5, duration: 0.270s, episode steps: 58, steps per second: 215, episode reward: 58.000, mean reward: 1.000 [1.000, 1.000], mean action: 0.534 [0.000, 1.000], mean observation: 0.128 [-0.360, 0.759], loss: 0.075174, mean_absolute_error: 0.991901, mean_q: 2.112482\n",
      "  408/5000: episode: 6, duration: 0.298s, episode steps: 68, steps per second: 228, episode reward: 68.000, mean reward: 1.000 [1.000, 1.000], mean action: 0.515 [0.000, 1.000], mean observation: 0.055 [-0.430, 0.886], loss: 0.079966, mean_absolute_error: 1.268797, mean_q: 2.582765\n",
      "  455/5000: episode: 7, duration: 0.208s, episode steps: 47, steps per second: 226, episode reward: 47.000, mean reward: 1.000 [1.000, 1.000], mean action: 0.532 [0.000, 1.000], mean observation: 0.124 [-0.332, 0.724], loss: 0.096838, mean_absolute_error: 1.522330, mean_q: 3.065767\n",
      "  509/5000: episode: 8, duration: 0.240s, episode steps: 54, steps per second: 225, episode reward: 54.000, mean reward: 1.000 [1.000, 1.000], mean action: 0.519 [0.000, 1.000], mean observation: 0.027 [-0.390, 0.642], loss: 0.112719, mean_absolute_error: 1.738598, mean_q: 3.457759\n",
      "  535/5000: episode: 9, duration: 0.115s, episode steps: 26, steps per second: 226, episode reward: 26.000, mean reward: 1.000 [1.000, 1.000], mean action: 0.538 [0.000, 1.000], mean observation: 0.117 [-0.416, 0.728], loss: 0.118891, mean_absolute_error: 1.913260, mean_q: 3.800825\n",
      "  562/5000: episode: 10, duration: 0.123s, episode steps: 27, steps per second: 220, episode reward: 27.000, mean reward: 1.000 [1.000, 1.000], mean action: 0.519 [0.000, 1.000], mean observation: 0.097 [-0.238, 0.842], loss: 0.177178, mean_absolute_error: 2.056411, mean_q: 4.058104\n",
      "  600/5000: episode: 11, duration: 0.172s, episode steps: 38, steps per second: 221, episode reward: 38.000, mean reward: 1.000 [1.000, 1.000], mean action: 0.500 [0.000, 1.000], mean observation: 0.035 [-0.417, 0.676], loss: 0.144241, mean_absolute_error: 2.182685, mean_q: 4.323732\n",
      "  629/5000: episode: 12, duration: 0.134s, episode steps: 29, steps per second: 216, episode reward: 29.000, mean reward: 1.000 [1.000, 1.000], mean action: 0.517 [0.000, 1.000], mean observation: 0.042 [-0.385, 0.840], loss: 0.127141, mean_absolute_error: 2.334839, mean_q: 4.655739\n",
      "  650/5000: episode: 13, duration: 0.094s, episode steps: 21, steps per second: 223, episode reward: 21.000, mean reward: 1.000 [1.000, 1.000], mean action: 0.476 [0.000, 1.000], mean observation: 0.088 [-0.360, 0.856], loss: 0.185984, mean_absolute_error: 2.463527, mean_q: 4.841586\n",
      "  671/5000: episode: 14, duration: 0.101s, episode steps: 21, steps per second: 208, episode reward: 21.000, mean reward: 1.000 [1.000, 1.000], mean action: 0.524 [0.000, 1.000], mean observation: 0.068 [-0.628, 0.948], loss: 0.169074, mean_absolute_error: 2.563502, mean_q: 5.073478\n",
      "  693/5000: episode: 15, duration: 0.103s, episode steps: 22, steps per second: 213, episode reward: 22.000, mean reward: 1.000 [1.000, 1.000], mean action: 0.500 [0.000, 1.000], mean observation: 0.091 [-0.566, 1.050], loss: 0.212631, mean_absolute_error: 2.654247, mean_q: 5.243313\n",
      "  717/5000: episode: 16, duration: 0.108s, episode steps: 24, steps per second: 221, episode reward: 24.000, mean reward: 1.000 [1.000, 1.000], mean action: 0.458 [0.000, 1.000], mean observation: 0.052 [-0.549, 1.066], loss: 0.234814, mean_absolute_error: 2.760071, mean_q: 5.485380\n",
      "  741/5000: episode: 17, duration: 0.109s, episode steps: 24, steps per second: 221, episode reward: 24.000, mean reward: 1.000 [1.000, 1.000], mean action: 0.500 [0.000, 1.000], mean observation: 0.076 [-0.430, 0.865], loss: 0.425866, mean_absolute_error: 2.879922, mean_q: 5.589339\n",
      "  764/5000: episode: 18, duration: 0.104s, episode steps: 23, steps per second: 221, episode reward: 23.000, mean reward: 1.000 [1.000, 1.000], mean action: 0.478 [0.000, 1.000], mean observation: 0.066 [-0.439, 0.919], loss: 0.342846, mean_absolute_error: 2.986379, mean_q: 5.870951\n",
      "  783/5000: episode: 19, duration: 0.087s, episode steps: 19, steps per second: 217, episode reward: 19.000, mean reward: 1.000 [1.000, 1.000], mean action: 0.526 [0.000, 1.000], mean observation: 0.118 [-0.421, 0.792], loss: 0.473522, mean_absolute_error: 3.076634, mean_q: 5.910799\n",
      "  803/5000: episode: 20, duration: 0.093s, episode steps: 20, steps per second: 216, episode reward: 20.000, mean reward: 1.000 [1.000, 1.000], mean action: 0.500 [0.000, 1.000], mean observation: 0.093 [-0.361, 0.843], loss: 0.304697, mean_absolute_error: 3.148127, mean_q: 6.196949\n",
      "  826/5000: episode: 21, duration: 0.108s, episode steps: 23, steps per second: 213, episode reward: 23.000, mean reward: 1.000 [1.000, 1.000], mean action: 0.478 [0.000, 1.000], mean observation: 0.091 [-0.540, 0.870], loss: 0.377898, mean_absolute_error: 3.245119, mean_q: 6.318227\n",
      "  849/5000: episode: 22, duration: 0.103s, episode steps: 23, steps per second: 224, episode reward: 23.000, mean reward: 1.000 [1.000, 1.000], mean action: 0.522 [0.000, 1.000], mean observation: 0.084 [-0.386, 0.754], loss: 0.452718, mean_absolute_error: 3.366150, mean_q: 6.552334\n",
      "  865/5000: episode: 23, duration: 0.073s, episode steps: 16, steps per second: 218, episode reward: 16.000, mean reward: 1.000 [1.000, 1.000], mean action: 0.500 [0.000, 1.000], mean observation: 0.106 [-0.356, 0.832], loss: 0.457229, mean_absolute_error: 3.433566, mean_q: 6.656281\n",
      "  897/5000: episode: 24, duration: 0.144s, episode steps: 32, steps per second: 222, episode reward: 32.000, mean reward: 1.000 [1.000, 1.000], mean action: 0.500 [0.000, 1.000], mean observation: 0.068 [-0.392, 0.766], loss: 0.463263, mean_absolute_error: 3.534214, mean_q: 6.892211\n",
      "  920/5000: episode: 25, duration: 0.105s, episode steps: 23, steps per second: 219, episode reward: 23.000, mean reward: 1.000 [1.000, 1.000], mean action: 0.522 [0.000, 1.000], mean observation: 0.116 [-0.361, 0.743], loss: 0.486579, mean_absolute_error: 3.654218, mean_q: 7.067861\n",
      "  958/5000: episode: 26, duration: 0.175s, episode steps: 38, steps per second: 217, episode reward: 38.000, mean reward: 1.000 [1.000, 1.000], mean action: 0.526 [0.000, 1.000], mean observation: 0.105 [-0.320, 0.624], loss: 0.454946, mean_absolute_error: 3.762090, mean_q: 7.351344\n",
      "  990/5000: episode: 27, duration: 0.141s, episode steps: 32, steps per second: 227, episode reward: 32.000, mean reward: 1.000 [1.000, 1.000], mean action: 0.500 [0.000, 1.000], mean observation: 0.060 [-0.387, 0.816], loss: 0.698192, mean_absolute_error: 3.917769, mean_q: 7.491435\n",
      " 1026/5000: episode: 28, duration: 0.166s, episode steps: 36, steps per second: 216, episode reward: 36.000, mean reward: 1.000 [1.000, 1.000], mean action: 0.528 [0.000, 1.000], mean observation: 0.093 [-0.409, 0.731], loss: 0.580089, mean_absolute_error: 4.029676, mean_q: 7.816332\n",
      " 1058/5000: episode: 29, duration: 0.142s, episode steps: 32, steps per second: 225, episode reward: 32.000, mean reward: 1.000 [1.000, 1.000], mean action: 0.500 [0.000, 1.000], mean observation: 0.065 [-0.391, 1.089], loss: 0.847973, mean_absolute_error: 4.172191, mean_q: 7.957006\n"
     ]
    },
    {
     "name": "stdout",
     "output_type": "stream",
     "text": [
      " 1106/5000: episode: 30, duration: 0.217s, episode steps: 48, steps per second: 221, episode reward: 48.000, mean reward: 1.000 [1.000, 1.000], mean action: 0.688 [0.000, 1.000], mean observation: 0.112 [-3.830, 3.456], loss: 0.741582, mean_absolute_error: 4.310705, mean_q: 8.346580\n",
      " 1157/5000: episode: 31, duration: 0.226s, episode steps: 51, steps per second: 226, episode reward: 51.000, mean reward: 1.000 [1.000, 1.000], mean action: 0.529 [0.000, 1.000], mean observation: 0.107 [-0.256, 0.741], loss: 1.043115, mean_absolute_error: 4.520559, mean_q: 8.637922\n",
      " 1191/5000: episode: 32, duration: 0.163s, episode steps: 34, steps per second: 208, episode reward: 34.000, mean reward: 1.000 [1.000, 1.000], mean action: 0.529 [0.000, 1.000], mean observation: 0.096 [-0.252, 0.730], loss: 1.017994, mean_absolute_error: 4.655987, mean_q: 8.942511\n",
      " 1207/5000: episode: 33, duration: 0.083s, episode steps: 16, steps per second: 193, episode reward: 16.000, mean reward: 1.000 [1.000, 1.000], mean action: 0.500 [0.000, 1.000], mean observation: 0.096 [-0.448, 1.026], loss: 1.104062, mean_absolute_error: 4.717508, mean_q: 8.881550\n",
      " 1227/5000: episode: 34, duration: 0.097s, episode steps: 20, steps per second: 206, episode reward: 20.000, mean reward: 1.000 [1.000, 1.000], mean action: 0.500 [0.000, 1.000], mean observation: 0.123 [-0.403, 0.787], loss: 0.980062, mean_absolute_error: 4.770259, mean_q: 9.155389\n",
      " 1276/5000: episode: 35, duration: 0.221s, episode steps: 49, steps per second: 222, episode reward: 49.000, mean reward: 1.000 [1.000, 1.000], mean action: 0.551 [0.000, 1.000], mean observation: 0.121 [-0.388, 0.910], loss: 0.987074, mean_absolute_error: 4.887708, mean_q: 9.442695\n",
      " 1318/5000: episode: 36, duration: 0.189s, episode steps: 42, steps per second: 223, episode reward: 42.000, mean reward: 1.000 [1.000, 1.000], mean action: 0.524 [0.000, 1.000], mean observation: 0.093 [-0.402, 0.740], loss: 1.218973, mean_absolute_error: 5.034653, mean_q: 9.611350\n",
      " 1336/5000: episode: 37, duration: 0.090s, episode steps: 18, steps per second: 201, episode reward: 18.000, mean reward: 1.000 [1.000, 1.000], mean action: 0.500 [0.000, 1.000], mean observation: 0.081 [-0.447, 0.880], loss: 1.240404, mean_absolute_error: 5.131159, mean_q: 9.817593\n",
      " 1418/5000: episode: 38, duration: 0.361s, episode steps: 82, steps per second: 227, episode reward: 82.000, mean reward: 1.000 [1.000, 1.000], mean action: 0.573 [0.000, 1.000], mean observation: 0.139 [-1.974, 2.252], loss: 1.071316, mean_absolute_error: 5.270349, mean_q: 10.156977\n",
      " 1545/5000: episode: 39, duration: 0.561s, episode steps: 127, steps per second: 226, episode reward: 127.000, mean reward: 1.000 [1.000, 1.000], mean action: 0.488 [0.000, 1.000], mean observation: -0.266 [-1.489, 0.795], loss: 1.007618, mean_absolute_error: 5.630928, mean_q: 10.934849\n",
      " 1733/5000: episode: 40, duration: 0.816s, episode steps: 188, steps per second: 230, episode reward: 188.000, mean reward: 1.000 [1.000, 1.000], mean action: 0.511 [0.000, 1.000], mean observation: 0.027 [-0.436, 0.675], loss: 1.130347, mean_absolute_error: 6.213453, mean_q: 12.065056\n",
      " 1813/5000: episode: 41, duration: 0.354s, episode steps: 80, steps per second: 226, episode reward: 80.000, mean reward: 1.000 [1.000, 1.000], mean action: 0.450 [0.000, 1.000], mean observation: -0.269 [-1.454, 0.491], loss: 1.415534, mean_absolute_error: 6.647264, mean_q: 12.866056\n",
      " 1875/5000: episode: 42, duration: 0.277s, episode steps: 62, steps per second: 224, episode reward: 62.000, mean reward: 1.000 [1.000, 1.000], mean action: 0.452 [0.000, 1.000], mean observation: -0.151 [-1.048, 0.432], loss: 1.388394, mean_absolute_error: 6.871655, mean_q: 13.362924\n",
      " 1897/5000: episode: 43, duration: 0.097s, episode steps: 22, steps per second: 227, episode reward: 22.000, mean reward: 1.000 [1.000, 1.000], mean action: 0.545 [0.000, 1.000], mean observation: -0.059 [-1.163, 0.776], loss: 2.159955, mean_absolute_error: 7.054422, mean_q: 13.595694\n",
      " 1954/5000: episode: 44, duration: 0.256s, episode steps: 57, steps per second: 222, episode reward: 57.000, mean reward: 1.000 [1.000, 1.000], mean action: 0.474 [0.000, 1.000], mean observation: -0.101 [-0.729, 0.341], loss: 1.564615, mean_absolute_error: 7.209985, mean_q: 14.021766\n",
      " 1966/5000: episode: 45, duration: 0.055s, episode steps: 12, steps per second: 217, episode reward: 12.000, mean reward: 1.000 [1.000, 1.000], mean action: 0.583 [0.000, 1.000], mean observation: -0.119 [-1.174, 0.573], loss: 1.526959, mean_absolute_error: 7.219249, mean_q: 14.127468\n",
      " 1982/5000: episode: 46, duration: 0.078s, episode steps: 16, steps per second: 205, episode reward: 16.000, mean reward: 1.000 [1.000, 1.000], mean action: 0.500 [0.000, 1.000], mean observation: -0.129 [-0.872, 0.364], loss: 0.711073, mean_absolute_error: 7.236800, mean_q: 14.431551\n",
      " 2004/5000: episode: 47, duration: 0.104s, episode steps: 22, steps per second: 211, episode reward: 22.000, mean reward: 1.000 [1.000, 1.000], mean action: 0.500 [0.000, 1.000], mean observation: -0.089 [-0.906, 0.429], loss: 1.914935, mean_absolute_error: 7.397761, mean_q: 14.461076\n",
      " 2046/5000: episode: 48, duration: 0.189s, episode steps: 42, steps per second: 222, episode reward: 42.000, mean reward: 1.000 [1.000, 1.000], mean action: 0.476 [0.000, 1.000], mean observation: -0.103 [-0.717, 0.426], loss: 1.544803, mean_absolute_error: 7.501078, mean_q: 14.678761\n",
      " 2074/5000: episode: 49, duration: 0.139s, episode steps: 28, steps per second: 201, episode reward: 28.000, mean reward: 1.000 [1.000, 1.000], mean action: 0.464 [0.000, 1.000], mean observation: -0.050 [-0.807, 0.424], loss: 1.879171, mean_absolute_error: 7.657048, mean_q: 14.860227\n",
      " 2116/5000: episode: 50, duration: 0.187s, episode steps: 42, steps per second: 224, episode reward: 42.000, mean reward: 1.000 [1.000, 1.000], mean action: 0.476 [0.000, 1.000], mean observation: -0.066 [-0.753, 0.360], loss: 2.001803, mean_absolute_error: 7.773053, mean_q: 15.122539\n",
      " 2136/5000: episode: 51, duration: 0.101s, episode steps: 20, steps per second: 198, episode reward: 20.000, mean reward: 1.000 [1.000, 1.000], mean action: 0.550 [0.000, 1.000], mean observation: -0.088 [-1.356, 0.592], loss: 2.920274, mean_absolute_error: 7.920906, mean_q: 15.218144\n",
      " 2149/5000: episode: 52, duration: 0.063s, episode steps: 13, steps per second: 206, episode reward: 13.000, mean reward: 1.000 [1.000, 1.000], mean action: 0.615 [0.000, 1.000], mean observation: -0.089 [-1.521, 0.963], loss: 1.949891, mean_absolute_error: 7.938993, mean_q: 15.571105\n",
      " 2166/5000: episode: 53, duration: 0.084s, episode steps: 17, steps per second: 202, episode reward: 17.000, mean reward: 1.000 [1.000, 1.000], mean action: 0.529 [0.000, 1.000], mean observation: -0.078 [-1.051, 0.621], loss: 1.903614, mean_absolute_error: 7.965667, mean_q: 15.572901\n",
      " 2189/5000: episode: 54, duration: 0.106s, episode steps: 23, steps per second: 216, episode reward: 23.000, mean reward: 1.000 [1.000, 1.000], mean action: 0.652 [0.000, 1.000], mean observation: -0.066 [-2.455, 1.396], loss: 3.358096, mean_absolute_error: 8.062315, mean_q: 15.546477\n",
      " 2200/5000: episode: 55, duration: 0.053s, episode steps: 11, steps per second: 207, episode reward: 11.000, mean reward: 1.000 [1.000, 1.000], mean action: 0.909 [0.000, 1.000], mean observation: -0.125 [-2.763, 1.725], loss: 1.932881, mean_absolute_error: 8.040757, mean_q: 15.575986\n",
      " 2210/5000: episode: 56, duration: 0.048s, episode steps: 10, steps per second: 206, episode reward: 10.000, mean reward: 1.000 [1.000, 1.000], mean action: 0.900 [0.000, 1.000], mean observation: -0.130 [-2.515, 1.584], loss: 2.376518, mean_absolute_error: 8.103232, mean_q: 15.800931\n",
      " 2248/5000: episode: 57, duration: 0.172s, episode steps: 38, steps per second: 221, episode reward: 38.000, mean reward: 1.000 [1.000, 1.000], mean action: 0.526 [0.000, 1.000], mean observation: 0.077 [-0.264, 0.833], loss: 2.181251, mean_absolute_error: 8.179735, mean_q: 15.818414\n",
      " 2305/5000: episode: 58, duration: 0.263s, episode steps: 57, steps per second: 217, episode reward: 57.000, mean reward: 1.000 [1.000, 1.000], mean action: 0.456 [0.000, 1.000], mean observation: -0.120 [-0.942, 0.229], loss: 2.715504, mean_absolute_error: 8.336068, mean_q: 16.095295\n"
     ]
    },
    {
     "name": "stdout",
     "output_type": "stream",
     "text": [
      " 2360/5000: episode: 59, duration: 0.246s, episode steps: 55, steps per second: 223, episode reward: 55.000, mean reward: 1.000 [1.000, 1.000], mean action: 0.527 [0.000, 1.000], mean observation: 0.094 [-0.270, 0.620], loss: 2.408211, mean_absolute_error: 8.407770, mean_q: 16.235958\n",
      " 2407/5000: episode: 60, duration: 0.219s, episode steps: 47, steps per second: 215, episode reward: 47.000, mean reward: 1.000 [1.000, 1.000], mean action: 0.468 [0.000, 1.000], mean observation: -0.101 [-0.700, 0.370], loss: 3.094864, mean_absolute_error: 8.565195, mean_q: 16.427967\n",
      " 2445/5000: episode: 61, duration: 0.172s, episode steps: 38, steps per second: 221, episode reward: 38.000, mean reward: 1.000 [1.000, 1.000], mean action: 0.526 [0.000, 1.000], mean observation: 0.069 [-0.389, 0.840], loss: 1.985275, mean_absolute_error: 8.559685, mean_q: 16.649176\n",
      " 2518/5000: episode: 62, duration: 0.357s, episode steps: 73, steps per second: 204, episode reward: 73.000, mean reward: 1.000 [1.000, 1.000], mean action: 0.521 [0.000, 1.000], mean observation: 0.086 [-0.580, 0.800], loss: 2.628851, mean_absolute_error: 8.746811, mean_q: 16.937574\n",
      " 2580/5000: episode: 63, duration: 0.323s, episode steps: 62, steps per second: 192, episode reward: 62.000, mean reward: 1.000 [1.000, 1.000], mean action: 0.500 [0.000, 1.000], mean observation: -0.003 [-0.418, 0.928], loss: 2.629814, mean_absolute_error: 8.869481, mean_q: 17.190889\n",
      " 2613/5000: episode: 64, duration: 0.180s, episode steps: 33, steps per second: 183, episode reward: 33.000, mean reward: 1.000 [1.000, 1.000], mean action: 0.515 [0.000, 1.000], mean observation: 0.080 [-0.596, 0.853], loss: 2.640239, mean_absolute_error: 9.022932, mean_q: 17.531662\n",
      " 2710/5000: episode: 65, duration: 0.512s, episode steps: 97, steps per second: 190, episode reward: 97.000, mean reward: 1.000 [1.000, 1.000], mean action: 0.495 [0.000, 1.000], mean observation: 0.040 [-0.420, 1.062], loss: 2.397375, mean_absolute_error: 9.149926, mean_q: 17.735050\n",
      " 2745/5000: episode: 66, duration: 0.178s, episode steps: 35, steps per second: 197, episode reward: 35.000, mean reward: 1.000 [1.000, 1.000], mean action: 0.486 [0.000, 1.000], mean observation: 0.064 [-0.424, 1.188], loss: 2.898348, mean_absolute_error: 9.376494, mean_q: 18.200628\n",
      " 2786/5000: episode: 67, duration: 0.187s, episode steps: 41, steps per second: 219, episode reward: 41.000, mean reward: 1.000 [1.000, 1.000], mean action: 0.512 [0.000, 1.000], mean observation: 0.063 [-0.554, 1.126], loss: 3.165578, mean_absolute_error: 9.352026, mean_q: 18.069902\n",
      " 2894/5000: episode: 68, duration: 0.477s, episode steps: 108, steps per second: 227, episode reward: 108.000, mean reward: 1.000 [1.000, 1.000], mean action: 0.519 [0.000, 1.000], mean observation: 0.173 [-0.495, 0.777], loss: 3.249284, mean_absolute_error: 9.520952, mean_q: 18.370193\n",
      " 2968/5000: episode: 69, duration: 0.330s, episode steps: 74, steps per second: 224, episode reward: 74.000, mean reward: 1.000 [1.000, 1.000], mean action: 0.486 [0.000, 1.000], mean observation: -0.057 [-0.785, 0.249], loss: 2.974045, mean_absolute_error: 9.688374, mean_q: 18.755476\n",
      " 3041/5000: episode: 70, duration: 0.326s, episode steps: 73, steps per second: 224, episode reward: 73.000, mean reward: 1.000 [1.000, 1.000], mean action: 0.507 [0.000, 1.000], mean observation: 0.109 [-0.420, 0.937], loss: 2.646207, mean_absolute_error: 9.873322, mean_q: 19.200500\n",
      " 3060/5000: episode: 71, duration: 0.087s, episode steps: 19, steps per second: 219, episode reward: 19.000, mean reward: 1.000 [1.000, 1.000], mean action: 0.474 [0.000, 1.000], mean observation: 0.085 [-0.604, 1.030], loss: 2.332484, mean_absolute_error: 9.963126, mean_q: 19.463541\n",
      " 3091/5000: episode: 72, duration: 0.143s, episode steps: 31, steps per second: 217, episode reward: 31.000, mean reward: 1.000 [1.000, 1.000], mean action: 0.484 [0.000, 1.000], mean observation: 0.077 [-0.388, 0.999], loss: 3.313760, mean_absolute_error: 9.957550, mean_q: 19.229525\n",
      " 3120/5000: episode: 73, duration: 0.134s, episode steps: 29, steps per second: 217, episode reward: 29.000, mean reward: 1.000 [1.000, 1.000], mean action: 0.517 [0.000, 1.000], mean observation: 0.117 [-0.189, 0.820], loss: 3.836031, mean_absolute_error: 10.117595, mean_q: 19.507729\n",
      " 3149/5000: episode: 74, duration: 0.150s, episode steps: 29, steps per second: 193, episode reward: 29.000, mean reward: 1.000 [1.000, 1.000], mean action: 0.517 [0.000, 1.000], mean observation: 0.129 [-0.222, 0.741], loss: 2.109100, mean_absolute_error: 10.103029, mean_q: 19.681076\n",
      " 3270/5000: episode: 75, duration: 0.544s, episode steps: 121, steps per second: 223, episode reward: 121.000, mean reward: 1.000 [1.000, 1.000], mean action: 0.529 [0.000, 1.000], mean observation: 0.218 [-1.323, 1.744], loss: 2.910110, mean_absolute_error: 10.255568, mean_q: 19.910746\n",
      " 3337/5000: episode: 76, duration: 0.304s, episode steps: 67, steps per second: 220, episode reward: 67.000, mean reward: 1.000 [1.000, 1.000], mean action: 0.493 [0.000, 1.000], mean observation: -0.104 [-0.946, 0.421], loss: 3.495992, mean_absolute_error: 10.400828, mean_q: 20.112360\n",
      " 3443/5000: episode: 77, duration: 0.478s, episode steps: 106, steps per second: 222, episode reward: 106.000, mean reward: 1.000 [1.000, 1.000], mean action: 0.481 [0.000, 1.000], mean observation: -0.021 [-0.860, 0.616], loss: 3.291622, mean_absolute_error: 10.655931, mean_q: 20.665262\n",
      " 3580/5000: episode: 78, duration: 0.609s, episode steps: 137, steps per second: 225, episode reward: 137.000, mean reward: 1.000 [1.000, 1.000], mean action: 0.482 [0.000, 1.000], mean observation: -0.040 [-0.865, 0.459], loss: 3.343731, mean_absolute_error: 10.845974, mean_q: 20.996897\n",
      " 3619/5000: episode: 79, duration: 0.176s, episode steps: 39, steps per second: 222, episode reward: 39.000, mean reward: 1.000 [1.000, 1.000], mean action: 0.487 [0.000, 1.000], mean observation: 0.017 [-0.406, 0.840], loss: 3.459887, mean_absolute_error: 11.080649, mean_q: 21.503313\n",
      " 3661/5000: episode: 80, duration: 0.192s, episode steps: 42, steps per second: 219, episode reward: 42.000, mean reward: 1.000 [1.000, 1.000], mean action: 0.524 [0.000, 1.000], mean observation: 0.100 [-0.393, 0.945], loss: 3.242224, mean_absolute_error: 11.104752, mean_q: 21.525087\n",
      " 3750/5000: episode: 81, duration: 0.395s, episode steps: 89, steps per second: 225, episode reward: 89.000, mean reward: 1.000 [1.000, 1.000], mean action: 0.461 [0.000, 1.000], mean observation: -0.181 [-1.275, 0.295], loss: 3.454065, mean_absolute_error: 11.213880, mean_q: 21.738882\n",
      " 3894/5000: episode: 82, duration: 0.639s, episode steps: 144, steps per second: 226, episode reward: 144.000, mean reward: 1.000 [1.000, 1.000], mean action: 0.479 [0.000, 1.000], mean observation: -0.178 [-1.473, 0.490], loss: 4.297796, mean_absolute_error: 11.485316, mean_q: 22.206486\n",
      " 4000/5000: episode: 83, duration: 0.475s, episode steps: 106, steps per second: 223, episode reward: 106.000, mean reward: 1.000 [1.000, 1.000], mean action: 0.472 [0.000, 1.000], mean observation: -0.117 [-1.065, 0.587], loss: 3.252659, mean_absolute_error: 11.744085, mean_q: 22.839012\n",
      " 4052/5000: episode: 84, duration: 0.241s, episode steps: 52, steps per second: 216, episode reward: 52.000, mean reward: 1.000 [1.000, 1.000], mean action: 0.519 [0.000, 1.000], mean observation: 0.132 [-0.248, 0.750], loss: 3.648130, mean_absolute_error: 11.922146, mean_q: 23.144268\n",
      " 4127/5000: episode: 85, duration: 0.336s, episode steps: 75, steps per second: 223, episode reward: 75.000, mean reward: 1.000 [1.000, 1.000], mean action: 0.533 [0.000, 1.000], mean observation: 0.219 [-0.322, 0.934], loss: 3.150222, mean_absolute_error: 12.013194, mean_q: 23.411335\n",
      " 4243/5000: episode: 86, duration: 0.524s, episode steps: 116, steps per second: 221, episode reward: 116.000, mean reward: 1.000 [1.000, 1.000], mean action: 0.457 [0.000, 1.000], mean observation: -0.272 [-1.828, 0.475], loss: 4.706005, mean_absolute_error: 12.249661, mean_q: 23.686335\n",
      " 4301/5000: episode: 87, duration: 0.262s, episode steps: 58, steps per second: 221, episode reward: 58.000, mean reward: 1.000 [1.000, 1.000], mean action: 0.517 [0.000, 1.000], mean observation: 0.054 [-0.273, 0.732], loss: 2.225851, mean_absolute_error: 12.468872, mean_q: 24.382484\n",
      " 4333/5000: episode: 88, duration: 0.146s, episode steps: 32, steps per second: 219, episode reward: 32.000, mean reward: 1.000 [1.000, 1.000], mean action: 0.500 [0.000, 1.000], mean observation: 0.108 [-0.192, 1.113], loss: 4.333867, mean_absolute_error: 12.493210, mean_q: 24.220779\n"
     ]
    },
    {
     "name": "stdout",
     "output_type": "stream",
     "text": [
      " 4413/5000: episode: 89, duration: 0.357s, episode steps: 80, steps per second: 224, episode reward: 80.000, mean reward: 1.000 [1.000, 1.000], mean action: 0.525 [0.000, 1.000], mean observation: 0.176 [-0.439, 0.912], loss: 3.664387, mean_absolute_error: 12.500826, mean_q: 24.330875\n",
      " 4573/5000: episode: 90, duration: 0.703s, episode steps: 160, steps per second: 228, episode reward: 160.000, mean reward: 1.000 [1.000, 1.000], mean action: 0.469 [0.000, 1.000], mean observation: -0.347 [-2.403, 0.633], loss: 3.919044, mean_absolute_error: 12.744471, mean_q: 24.814951\n",
      " 4763/5000: episode: 91, duration: 0.848s, episode steps: 190, steps per second: 224, episode reward: 190.000, mean reward: 1.000 [1.000, 1.000], mean action: 0.474 [0.000, 1.000], mean observation: -0.283 [-2.413, 0.600], loss: 3.757337, mean_absolute_error: 13.152532, mean_q: 25.699707\n",
      " 4904/5000: episode: 92, duration: 0.620s, episode steps: 141, steps per second: 227, episode reward: 141.000, mean reward: 1.000 [1.000, 1.000], mean action: 0.475 [0.000, 1.000], mean observation: -0.412 [-2.418, 0.757], loss: 2.918706, mean_absolute_error: 13.520616, mean_q: 26.567558\n",
      "done, took 24.580 seconds\n"
     ]
    },
    {
     "data": {
      "text/plain": [
       "<keras.callbacks.History at 0x1c995bb5da0>"
      ]
     },
     "execution_count": 14,
     "metadata": {},
     "output_type": "execute_result"
    }
   ],
   "source": [
    "policy = EpsGreedyQPolicy()\n",
    "memory = SequentialMemory(limit=50000, window_length=1)\n",
    "dqn = DQNAgent(model=model, nb_actions=nb_actions, memory=memory, nb_steps_warmup=10,\n",
    "               target_model_update=1e-2, policy=policy)\n",
    "dqn.compile(Adam(lr=1e-3), metrics=['mae'])\n",
    "\n",
    "# Okay, now it's time to learn something! We visualize the training here for show, but this slows down training quite a lot. \n",
    "dqn.fit(env, nb_steps=5000, visualize=False, verbose=2)"
   ]
  },
  {
   "cell_type": "code",
   "execution_count": 16,
   "metadata": {},
   "outputs": [
    {
     "name": "stdout",
     "output_type": "stream",
     "text": [
      "Testing for 10 episodes ...\n",
      "Episode 1: reward: 199.000, steps: 199\n",
      "Episode 2: reward: 200.000, steps: 200\n",
      "Episode 3: reward: 200.000, steps: 200\n",
      "Episode 4: reward: 200.000, steps: 200\n",
      "Episode 5: reward: 194.000, steps: 194\n",
      "Episode 6: reward: 200.000, steps: 200\n",
      "Episode 7: reward: 200.000, steps: 200\n",
      "Episode 8: reward: 200.000, steps: 200\n",
      "Episode 9: reward: 150.000, steps: 150\n",
      "Episode 10: reward: 200.000, steps: 200\n"
     ]
    },
    {
     "data": {
      "text/plain": [
       "<keras.callbacks.History at 0x1c995c39c50>"
      ]
     },
     "execution_count": 16,
     "metadata": {},
     "output_type": "execute_result"
    }
   ],
   "source": [
    "dqn.test(env, nb_episodes=10, visualize=True)"
   ]
  },
  {
   "cell_type": "markdown",
   "metadata": {},
   "source": [
    "## Ant Problem"
   ]
  },
  {
   "cell_type": "markdown",
   "metadata": {},
   "source": [
    "### Section 2: Defining the Environment"
   ]
  },
  {
   "cell_type": "code",
   "execution_count": 12,
   "metadata": {},
   "outputs": [],
   "source": [
    "ENV_NAME = 'MountainCar-v0'\n",
    "\n",
    "# Get the environment and extract the number of actions available in the Cartpole problem\n",
    "env = gym.make(ENV_NAME)\n",
    "np.random.seed(123)\n",
    "env.seed(123)\n",
    "nb_actions = env.action_space.n"
   ]
  },
  {
   "cell_type": "markdown",
   "metadata": {},
   "source": [
    "### Section 3: Defining the ANN Architecture"
   ]
  },
  {
   "cell_type": "code",
   "execution_count": 76,
   "metadata": {},
   "outputs": [
    {
     "name": "stdout",
     "output_type": "stream",
     "text": [
      "_________________________________________________________________\n",
      "Layer (type)                 Output Shape              Param #   \n",
      "=================================================================\n",
      "flatten_4 (Flatten)          (None, 2)                 0         \n",
      "_________________________________________________________________\n",
      "dense_10 (Dense)             (None, 64)                192       \n",
      "_________________________________________________________________\n",
      "activation_10 (Activation)   (None, 64)                0         \n",
      "_________________________________________________________________\n",
      "dense_11 (Dense)             (None, 16)                1040      \n",
      "_________________________________________________________________\n",
      "activation_11 (Activation)   (None, 16)                0         \n",
      "_________________________________________________________________\n",
      "dense_12 (Dense)             (None, 16)                272       \n",
      "_________________________________________________________________\n",
      "activation_12 (Activation)   (None, 16)                0         \n",
      "_________________________________________________________________\n",
      "dense_13 (Dense)             (None, 3)                 51        \n",
      "_________________________________________________________________\n",
      "activation_13 (Activation)   (None, 3)                 0         \n",
      "=================================================================\n",
      "Total params: 1,555\n",
      "Trainable params: 1,555\n",
      "Non-trainable params: 0\n",
      "_________________________________________________________________\n"
     ]
    }
   ],
   "source": [
    "model = Sequential()\n",
    "model.add(Flatten(input_shape=(1,) + env.observation_space.shape))\n",
    "model.add(Dense(64))\n",
    "model.add(Activation('relu'))\n",
    "model.add(Dense(16))\n",
    "model.add(Activation('relu'))\n",
    "model.add(Dense(16))\n",
    "model.add(Activation('relu'))\n",
    "model.add(Dense(nb_actions))\n",
    "model.add(Activation('linear'))\n",
    "model.summary()"
   ]
  },
  {
   "cell_type": "markdown",
   "metadata": {},
   "source": [
    "### Section 4: Training the Model using the Q-Learning Algorithm"
   ]
  },
  {
   "cell_type": "code",
   "execution_count": 84,
   "metadata": {
    "scrolled": true
   },
   "outputs": [
    {
     "name": "stdout",
     "output_type": "stream",
     "text": [
      "Training for 10000 steps ...\n",
      "Interval 1 (0 steps performed)\n",
      "10000/10000 [==============================] - 88s 9ms/step - reward: -1.0000\n",
      "done, took 88.158 seconds\n"
     ]
    },
    {
     "data": {
      "text/plain": [
       "<keras.callbacks.History at 0x279e390acc0>"
      ]
     },
     "execution_count": 84,
     "metadata": {},
     "output_type": "execute_result"
    }
   ],
   "source": [
    "policy = EpsGreedyQPolicy()\n",
    "memory = SequentialMemory(limit=50000, window_length=1)\n",
    "dqn = DQNAgent(model=model, nb_actions=nb_actions, memory=memory, nb_steps_warmup=400,\n",
    "               target_model_update=1e-2, policy=policy)\n",
    "dqn.compile(Adam(lr=1e-3), metrics=['mae'])\n",
    "\n",
    "# Okay, now it's time to learn something! We visualize the training here for show, but this slows down training quite a lot. \n",
    "dqn.fit(env, nb_steps=10000, visualize=False, verbose=1)"
   ]
  },
  {
   "cell_type": "code",
   "execution_count": 85,
   "metadata": {},
   "outputs": [
    {
     "name": "stdout",
     "output_type": "stream",
     "text": [
      "Testing for 5 episodes ...\n",
      "Episode 1: reward: -200.000, steps: 200\n",
      "Episode 2: reward: -200.000, steps: 200\n",
      "Episode 3: reward: -200.000, steps: 200\n",
      "Episode 4: reward: -200.000, steps: 200\n",
      "Episode 5: reward: -200.000, steps: 200\n"
     ]
    }
   ],
   "source": [
    "dqn.test(env, nb_episodes=5, visualize=True)\n",
    "env.close()"
   ]
  },
  {
   "cell_type": "markdown",
   "metadata": {},
   "source": [
    "### Section 5: Random Action"
   ]
  },
  {
   "cell_type": "code",
   "execution_count": 68,
   "metadata": {},
   "outputs": [],
   "source": [
    "env.reset()\n",
    "action = 0\n",
    "for i in range(1000):\n",
    "    env.render()\n",
    "    if i < 400:\n",
    "        env.step(0) # take a random action\n",
    "    else:\n",
    "        env.step(2) # take a random action\n",
    "        # env.step(env.action_space.sample()) # take a random action\n",
    "env.close()"
   ]
  }
 ],
 "metadata": {
  "kernelspec": {
   "display_name": "Python 3",
   "language": "python",
   "name": "python3"
  },
  "language_info": {
   "codemirror_mode": {
    "name": "ipython",
    "version": 3
   },
   "file_extension": ".py",
   "mimetype": "text/x-python",
   "name": "python",
   "nbconvert_exporter": "python",
   "pygments_lexer": "ipython3",
   "version": "3.6.7"
  }
 },
 "nbformat": 4,
 "nbformat_minor": 2
}
